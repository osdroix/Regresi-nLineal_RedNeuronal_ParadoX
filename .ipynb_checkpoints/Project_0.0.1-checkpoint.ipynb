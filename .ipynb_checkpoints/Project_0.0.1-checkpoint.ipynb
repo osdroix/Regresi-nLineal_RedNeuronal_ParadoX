{
 "cells": [
  {
   "cell_type": "code",
   "execution_count": null,
   "id": "deb204c6-e0e5-48b6-a13c-ba76e841b29f",
   "metadata": {},
   "outputs": [],
   "source": [
    "# -*- coding: utf-8 -*-\n",
    "\"\"\"\n",
    "Created on Wed Nov 29 16:47:31 2023\n",
    "\n",
    "@author: osdroix\n",
    "\"\"\"\n",
    "\n",
    "import pandas as pd\n",
    "import numpy as np\n",
    "import matplotlib.pyplot as plt\n",
    "from sklearn.model_selection import train_test_split\n",
    "from sklearn.linear_model import LinearRegression\n",
    "from sklearn import metrics\n",
    "\n",
    "# Cargar datos desde el conjunto proporcionado\n",
    "data = pd.read_csv('DATAVH.csv', delimiter=';', low_memory=False)\n",
    "\n",
    "# Convertir la columna de fecha a un formato adecuado\n",
    "data['fecha'] = pd.to_datetime(data['fecha'])\n",
    "\n",
    "# Extraer el año como variable independiente\n",
    "data['año'] = data['fecha'].dt.year\n",
    "\n",
    "# Seleccionar características para la regresión múltiple\n",
    "features = ['año', 'columna_5', 'otra_columna']\n",
    "\n",
    "# Separar las columnas en variables independientes (X) y dependientes (y)\n",
    "X = data[features]\n",
    "y = data['cantidad'].values.reshape(-1, 1)\n",
    "\n",
    "# Dividir los datos en conjuntos de entrenamiento y prueba\n",
    "X_train, X_test, y_train, y_test = train_test_split(X, y, test_size=0.2, random_state=0)\n",
    "\n",
    "# Crear un modelo de regresión lineal múltiple\n",
    "model = LinearRegression()\n",
    "\n",
    "# Entrenar el modelo con los datos de entrenamiento\n",
    "model.fit(X_train, y_train)\n",
    "\n",
    "# Realizar predicciones en los datos de prueba\n",
    "y_pred = model.predict(X_test)\n",
    "\n",
    "# Evaluar el rendimiento del modelo\n",
    "print('Coeficientes:', model.coef_)\n",
    "print('Término Independiente (b):', model.intercept_)\n",
    "print('Error Cuadrático Medio:', metrics.mean_squared_error(y_test, y_pred))\n",
    "\n",
    "# Visualizar los resultados\n",
    "plt.scatter(X_test['año'], y_test, color='black', label='Real')\n",
    "plt.scatter(X_test['año'], y_pred, color='blue', label='Predicción')\n",
    "plt.title('Regresión Lineal Múltiple')\n",
    "plt.xlabel('Año')\n",
    "plt.ylabel('Cantidad Vendida')\n",
    "plt.legend()\n",
    "plt.show()\n"
   ]
  },
  {
   "cell_type": "code",
   "execution_count": null,
   "id": "1438d107-159b-45e0-bca3-acd329bf539c",
   "metadata": {},
   "outputs": [],
   "source": []
  }
 ],
 "metadata": {
  "kernelspec": {
   "display_name": "Python 3 (ipykernel)",
   "language": "python",
   "name": "python3"
  },
  "language_info": {
   "codemirror_mode": {
    "name": "ipython",
    "version": 3
   },
   "file_extension": ".py",
   "mimetype": "text/x-python",
   "name": "python",
   "nbconvert_exporter": "python",
   "pygments_lexer": "ipython3",
   "version": "3.9.13"
  }
 },
 "nbformat": 4,
 "nbformat_minor": 5
}
