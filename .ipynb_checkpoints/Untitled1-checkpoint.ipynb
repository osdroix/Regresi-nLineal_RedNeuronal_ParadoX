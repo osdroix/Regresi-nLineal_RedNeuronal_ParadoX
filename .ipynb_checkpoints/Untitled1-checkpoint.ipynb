{
 "cells": [
  {
   "cell_type": "code",
   "execution_count": null,
   "id": "091db449-597d-40df-8834-c52c9838b553",
   "metadata": {},
   "outputs": [],
   "source": [
    "# Importar bibliotecas necesarias\n",
    "import pandas as pd\n",
    "import numpy as np\n",
    "from sklearn.model_selection import train_test_split\n",
    "from sklearn.linear_model import LinearRegression\n",
    "import matplotlib.pyplot as plt\n",
    "\n",
    "# Cargar datos desde un archivo CSV\n",
    "csv_file = 'DATAVHL.csv'   # Cambia la ruta a la ubicación de tu archivo CSV\n",
    "\n",
    "# Especificar tipos de datos y formato de fecha al leer el archivo CSV\n",
    "date_parser = lambda x: pd.to_datetime(x, format='%d/%m/%Y', errors='coerce')\n",
    "df = pd.read_csv(csv_file, dtype={'nit': str}, parse_dates=['fecha'], date_parser=date_parser)\n",
    "\n",
    "# Eliminar filas con valores NaN\n",
    "df = df.dropna(subset=['fecha', 'cantidad'])\n",
    "\n",
    "# Extraer el año como variable independiente\n",
    "df['año'] = df['fecha'].dt.year\n",
    "\n",
    "# Separar las columnas en variables independientes (X) y dependientes (y)\n",
    "X = df['año'].values.reshape(-1, 1)\n",
    "y = df['cantidad'].values.reshape(-1, 1)\n",
    "\n",
    "# Dividir los datos en conjuntos de entrenamiento y prueba\n",
    "X_train, X_test, y_train, y_test = train_test_split(X, y, test_size=0.2, random_state=0)\n",
    "\n",
    "# Crear un modelo de regresión lineal\n",
    "model = LinearRegression()\n",
    "\n",
    "# Entrenar el modelo con los datos de entrenamiento\n",
    "model.fit(X_train, y_train)\n",
    "\n",
    "# Realizar predicciones en los datos de prueba\n",
    "y_pred = model.predict(X_test)\n",
    "\n",
    "# Visualizar los resultados\n",
    "plt.scatter(X_test, y_test, color='black')\n",
    "plt.plot(X_test, y_pred, color='blue', linewidth=3)\n",
    "plt.title('Regresión Lineal Simple')\n",
    "plt.xlabel('Año')\n",
    "plt.ylabel('Cantidad Vendida')\n",
    "plt.show()\n"
   ]
  },
  {
   "cell_type": "code",
   "execution_count": null,
   "id": "aa44248e-2bc1-4f06-ad34-e6e19fef2a1a",
   "metadata": {},
   "outputs": [],
   "source": []
  }
 ],
 "metadata": {
  "kernelspec": {
   "display_name": "Python 3 (ipykernel)",
   "language": "python",
   "name": "python3"
  },
  "language_info": {
   "codemirror_mode": {
    "name": "ipython",
    "version": 3
   },
   "file_extension": ".py",
   "mimetype": "text/x-python",
   "name": "python",
   "nbconvert_exporter": "python",
   "pygments_lexer": "ipython3",
   "version": "3.9.13"
  }
 },
 "nbformat": 4,
 "nbformat_minor": 5
}
